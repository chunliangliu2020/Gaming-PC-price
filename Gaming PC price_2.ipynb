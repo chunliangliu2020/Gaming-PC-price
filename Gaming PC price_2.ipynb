{
 "cells": [
  {
   "cell_type": "code",
   "execution_count": 16,
   "metadata": {},
   "outputs": [],
   "source": [
    "import bs4\n",
    "from urllib.request import urlopen as uReq\n",
    "from urllib.request import Request\n",
    "from bs4 import BeautifulSoup as soup\n",
    "import pandas as pd\n",
    "import random\n",
    "import time"
   ]
  },
  {
   "cell_type": "code",
   "execution_count": 6,
   "metadata": {},
   "outputs": [],
   "source": [
    "web_links = []\n",
    "page_num = [\"\", \"/Page-2\", \"/Page-3\", \"/Page-4\", \"/Page-5\", \"/Page-6\"]\n",
    "for i in page_num:                                   # create a list of links from the search\n",
    "    web_links.append(\"https://www.newegg.com/Gaming-Desktops/SubCategory/ID-3742{0}?Tid=897483&PageSize=96\".format(i))\n"
   ]
  },
  {
   "cell_type": "code",
   "execution_count": 7,
   "metadata": {},
   "outputs": [
    {
     "data": {
      "text/plain": [
       "['https://www.newegg.com/Gaming-Desktops/SubCategory/ID-3742?Tid=897483&PageSize=96',\n",
       " 'https://www.newegg.com/Gaming-Desktops/SubCategory/ID-3742/Page-2?Tid=897483&PageSize=96',\n",
       " 'https://www.newegg.com/Gaming-Desktops/SubCategory/ID-3742/Page-3?Tid=897483&PageSize=96',\n",
       " 'https://www.newegg.com/Gaming-Desktops/SubCategory/ID-3742/Page-4?Tid=897483&PageSize=96',\n",
       " 'https://www.newegg.com/Gaming-Desktops/SubCategory/ID-3742/Page-5?Tid=897483&PageSize=96',\n",
       " 'https://www.newegg.com/Gaming-Desktops/SubCategory/ID-3742/Page-6?Tid=897483&PageSize=96']"
      ]
     },
     "execution_count": 7,
     "metadata": {},
     "output_type": "execute_result"
    }
   ],
   "source": [
    "web_links"
   ]
  },
  {
   "cell_type": "code",
   "execution_count": 17,
   "metadata": {},
   "outputs": [],
   "source": [
    "filename = \"Gaming_pc_2.csv\"\n",
    "f = open (filename, \"w\")\n",
    "headers = \"brand_config, price_was, price_current,shipping\\n\"\n",
    "f.write(headers)\n",
    "for link in web_links:\n",
    "    sleep_gap = random.uniform(1,10) # sleep between each call\n",
    "    time.sleep(sleep_gap)\n",
    "    request = Request(link,headers={'User-Agent': 'Pagani_pc'}) # use user-agent to prevent IP block\n",
    "    uClient = uReq(request)                                     # request url\n",
    "    page_html = uClient.read()                                  # read url\n",
    "    uClient.close()\n",
    "    page_soup = soup(page_html, \"html.parser\")                  # parse html\n",
    "    containers = page_soup.findAll('div', {\"class\":\"item-container\"}) #extract all the product info\n",
    "    for item in containers:\n",
    "        try:\n",
    "            brand_config = item.findAll(\"a\",{\"class\":\"item-title\"})[0].text  #product's brand and config\n",
    "            price_was = item.findAll(\"li\",{\"class\":\"price-was\"})[0].text    #product's list price\n",
    "            price_current = item.findAll(\"li\",{\"class\":\"price-current\"})[0].text #product's current price\n",
    "            shipping = item.findAll(\"li\",{\"class\":\"price-ship\"})[0].text       #product's shipping cost\n",
    "        except:\n",
    "            pass\n",
    "        f.write(brand_config.replace(',','') + \",\" + price_was.replace(',','') + \",\" + price_current.replace(',','') + \",\" + shipping.replace(',','') + \"\\n\")\n",
    "f.close()"
   ]
  },
  {
   "cell_type": "code",
   "execution_count": 27,
   "metadata": {},
   "outputs": [],
   "source": [
    "import pandas as pd\n",
    "df = pd.read_csv(\"Gaming_pc_2.csv\", encoding = \"ISO-8859-1\") # encoding required, failed when using encoding = \"utf-8\""
   ]
  },
  {
   "cell_type": "code",
   "execution_count": 29,
   "metadata": {},
   "outputs": [
    {
     "data": {
      "text/plain": [
       "(574, 4)"
      ]
     },
     "execution_count": 29,
     "metadata": {},
     "output_type": "execute_result"
    }
   ],
   "source": [
    "df.shape"
   ]
  },
  {
   "cell_type": "code",
   "execution_count": 31,
   "metadata": {},
   "outputs": [
    {
     "data": {
      "text/html": [
       "<div>\n",
       "<style scoped>\n",
       "    .dataframe tbody tr th:only-of-type {\n",
       "        vertical-align: middle;\n",
       "    }\n",
       "\n",
       "    .dataframe tbody tr th {\n",
       "        vertical-align: top;\n",
       "    }\n",
       "\n",
       "    .dataframe thead th {\n",
       "        text-align: right;\n",
       "    }\n",
       "</style>\n",
       "<table border=\"1\" class=\"dataframe\">\n",
       "  <thead>\n",
       "    <tr style=\"text-align: right;\">\n",
       "      <th></th>\n",
       "      <th>brand_config</th>\n",
       "      <th>price_was</th>\n",
       "      <th>price_current</th>\n",
       "      <th>shipping</th>\n",
       "    </tr>\n",
       "  </thead>\n",
       "  <tbody>\n",
       "    <tr>\n",
       "      <th>0</th>\n",
       "      <td>ABS Master Gaming PC - Ryzen 5 3600X - AMD Rad...</td>\n",
       "      <td>NaN</td>\n",
       "      <td>$999.99 </td>\n",
       "      <td>Free Shipping</td>\n",
       "    </tr>\n",
       "    <tr>\n",
       "      <th>1</th>\n",
       "      <td>Skytech AZURE Gaming PC Desktop - AMD Ryzen 5 ...</td>\n",
       "      <td>$1549.99</td>\n",
       "      <td>$1479.99 </td>\n",
       "      <td>Free Shipping</td>\n",
       "    </tr>\n",
       "    <tr>\n",
       "      <th>2</th>\n",
       "      <td>Cobratype Lancehead Gaming Desktop PC - RTX 30...</td>\n",
       "      <td>NaN</td>\n",
       "      <td>$1999.99 </td>\n",
       "      <td>Special Shipping</td>\n",
       "    </tr>\n",
       "    <tr>\n",
       "      <th>3</th>\n",
       "      <td>Acer Predator Orion 3000 - Intel Core i7-10700...</td>\n",
       "      <td>$1499.99</td>\n",
       "      <td>$1449.99 </td>\n",
       "      <td>Free Shipping</td>\n",
       "    </tr>\n",
       "    <tr>\n",
       "      <th>4</th>\n",
       "      <td>ABS Challenger Gaming PC - Intel i5 10400F - G...</td>\n",
       "      <td>NaN</td>\n",
       "      <td>$849.99 (2 Offers)</td>\n",
       "      <td>Free Shipping</td>\n",
       "    </tr>\n",
       "  </tbody>\n",
       "</table>\n",
       "</div>"
      ],
      "text/plain": [
       "                                        brand_config  price_was  \\\n",
       "0  ABS Master Gaming PC - Ryzen 5 3600X - AMD Rad...        NaN   \n",
       "1  Skytech AZURE Gaming PC Desktop - AMD Ryzen 5 ...   $1549.99   \n",
       "2  Cobratype Lancehead Gaming Desktop PC - RTX 30...        NaN   \n",
       "3  Acer Predator Orion 3000 - Intel Core i7-10700...   $1499.99   \n",
       "4  ABS Challenger Gaming PC - Intel i5 10400F - G...        NaN   \n",
       "\n",
       "         price_current          shipping  \n",
       "0            $999.99      Free Shipping  \n",
       "1           $1479.99      Free Shipping  \n",
       "2           $1999.99   Special Shipping  \n",
       "3           $1449.99      Free Shipping  \n",
       "4  $849.99 (2 Offers)     Free Shipping  "
      ]
     },
     "execution_count": 31,
     "metadata": {},
     "output_type": "execute_result"
    }
   ],
   "source": [
    "df.head()"
   ]
  },
  {
   "cell_type": "code",
   "execution_count": null,
   "metadata": {},
   "outputs": [],
   "source": [
    "def get_soup(my_url):\n",
    "    uClient = uReq(my_url)\n",
    "    page_html = uClient.read()\n",
    "    uClient.close()\n",
    "    page_soup = soup(page_html, \"html.parser\")\n",
    "    containers = page_soup.findAll('div', {\"class\":\"item-container\"})\n",
    "    return containers"
   ]
  }
 ],
 "metadata": {
  "kernelspec": {
   "display_name": "Python 3",
   "language": "python",
   "name": "python3"
  },
  "language_info": {
   "codemirror_mode": {
    "name": "ipython",
    "version": 3
   },
   "file_extension": ".py",
   "mimetype": "text/x-python",
   "name": "python",
   "nbconvert_exporter": "python",
   "pygments_lexer": "ipython3",
   "version": "3.8.3"
  }
 },
 "nbformat": 4,
 "nbformat_minor": 4
}
